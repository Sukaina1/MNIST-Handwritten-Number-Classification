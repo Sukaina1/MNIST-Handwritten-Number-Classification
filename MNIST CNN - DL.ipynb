{
  "cells": [
    {
      "cell_type": "markdown",
      "metadata": {
        "id": "e95-RDx768QX"
      },
      "source": [
        "# MNIST - Handwriting Recognition\n"
      ]
    },
    {
      "cell_type": "markdown",
      "metadata": {
        "id": "zuwTsryl6DHF"
      },
      "source": [
        "# Step 1 - Importing libraries"
      ]
    },
    {
      "cell_type": "code",
      "execution_count": 1,
      "metadata": {
        "ExecuteTime": {
          "end_time": "2020-06-10T16:54:31.638667Z",
          "start_time": "2020-06-10T16:54:29.084221Z"
        },
        "id": "Ml8D5qmJ6DHF",
        "trusted": true
      },
      "outputs": [],
      "source": [
        "# Import necessary libraries\n",
        "import matplotlib.pyplot as plt  # For data visualization\n",
        "import tensorflow as tf  # For building and training neural networks\n",
        "import numpy as np  # For numerical operations and arrays\n",
        "\n",
        "# Enable inline plotting for Jupyter notebooks\n",
        "%matplotlib inline\n"
      ]
    },
    {
      "cell_type": "markdown",
      "metadata": {
        "id": "YBkgJ3mS6DHG"
      },
      "source": [
        "# Step 2 - Importing Dataset\n",
        "\n",
        "Here we are loading mnist Dataset which is preloaded in tensorflow. <br>\n",
        "\n",
        ">```mnist = tf.keras.datasets.mnist```<br>\n",
        "This returns the dataset object. Similarly there are 6 more datasets preloaded in keras.\n",
        "\n",
        ">Calling the `load_data` function on this object returns splitted train and test data in form of (features, target)."
      ]
    },
    {
      "cell_type": "code",
      "execution_count": 2,
      "metadata": {
        "ExecuteTime": {
          "end_time": "2020-06-10T16:54:31.82622Z",
          "start_time": "2020-06-10T16:54:31.640652Z"
        },
        "colab": {
          "base_uri": "https://localhost:8080/"
        },
        "id": "EtckJb_p6DHH",
        "outputId": "623d784e-d054-4f62-c6d3-97a9b7094126",
        "trusted": true
      },
      "outputs": [
        {
          "name": "stdout",
          "output_type": "stream",
          "text": [
            "Downloading data from https://storage.googleapis.com/tensorflow/tf-keras-datasets/mnist.npz\n",
            "11490434/11490434 [==============================] - 2s 0us/step\n"
          ]
        }
      ],
      "source": [
        "# Load the MNIST dataset\n",
        "mnist = tf.keras.datasets.mnist\n",
        "\n",
        "# Load and unpack the dataset into training and testing data\n",
        "# x_train and y_train are the training features and labels respectively\n",
        "# x_test and y_test are the testing features and labels respectively\n",
        "(x_train, y_train), (x_test, y_test) = mnist.load_data()\n"
      ]
    },
    {
      "cell_type": "markdown",
      "metadata": {
        "id": "zViGANuc6DHH"
      },
      "source": [
        "### Overview of Dataset\n",
        "\n",
        "The dataset contains images, each image of 28x28px. There are 6000 images in training data and 1000 images in test data.<br>\n",
        ">The shape (6000, 28, 28) represents **6000** images each of dimension **28x28**.<br>\n",
        "The shape **(6000, )** represents (6000, 1) shape i.e. 6000 labels, each for one image."
      ]
    },
    {
      "cell_type": "code",
      "execution_count": 3,
      "metadata": {
        "ExecuteTime": {
          "end_time": "2020-06-10T16:54:31.832844Z",
          "start_time": "2020-06-10T16:54:31.828686Z"
        },
        "colab": {
          "base_uri": "https://localhost:8080/"
        },
        "id": "wpAfjGJo6DHI",
        "outputId": "fdc321b1-343d-458d-c38c-8a496a46de35",
        "trusted": true
      },
      "outputs": [
        {
          "name": "stdout",
          "output_type": "stream",
          "text": [
            "Shape of the training data: (60000, 28, 28)\n",
            "Shape of the training target: (60000,)\n",
            "Shape of the test data: (10000, 28, 28)\n",
            "Shape of the test target: (10000,)\n"
          ]
        }
      ],
      "source": [
        "# Print the shapes of the datasets\n",
        "print(f'Shape of the training data: {x_train.shape}')  # Shape of training images\n",
        "print(f'Shape of the training target: {y_train.shape}')  # Shape of training labels\n",
        "print(f'Shape of the test data: {x_test.shape}')  # Shape of testing images\n",
        "print(f'Shape of the test target: {y_test.shape}')  # Shape of testing labels\n"
      ]
    },
    {
      "cell_type": "code",
      "execution_count": 4,
      "metadata": {
        "ExecuteTime": {
          "end_time": "2020-06-10T16:54:31.839396Z",
          "start_time": "2020-06-10T16:54:31.835735Z"
        },
        "colab": {
          "base_uri": "https://localhost:8080/"
        },
        "id": "ZqDE8HKV6DHI",
        "outputId": "b6f75db4-dca8-4c41-8bd6-eef2fdc701ea",
        "trusted": true
      },
      "outputs": [
        {
          "name": "stdout",
          "output_type": "stream",
          "text": [
            "[5 0 4 ... 5 6 8]\n"
          ]
        }
      ],
      "source": [
        "# Print the training labels\n",
        "print(y_train)"
      ]
    },
    {
      "cell_type": "code",
      "execution_count": 5,
      "metadata": {
        "ExecuteTime": {
          "end_time": "2020-06-10T16:54:32.048741Z",
          "start_time": "2020-06-10T16:54:31.84145Z"
        },
        "colab": {
          "base_uri": "https://localhost:8080/",
          "height": 447
        },
        "id": "x9CilTSP6DHI",
        "outputId": "6b55e356-d12c-4d18-c5c8-bd6d283dead4",
        "trusted": true
      },
      "outputs": [
        {
          "name": "stdout",
          "output_type": "stream",
          "text": [
            "Target variable is 5\n"
          ]
        },
        {
          "data": {
            "image/png": "[encoded data removed]",
            "text/plain": [
              "<Figure size 640x480 with 1 Axes>"
            ]
          },
          "metadata": {},
          "output_type": "display_data"
        }
      ],
      "source": [
        "# Display the first image in the training data along with its target label\n",
        "plt.imshow(x_train[0], cmap='gray')  # Display the image in grayscale\n",
        "print(f'Target variable is {y_train[0]}')  # Print the target label of the first image\n"
      ]
    },
    {
      "cell_type": "markdown",
      "metadata": {
        "id": "XZzfx5G06DHI"
      },
      "source": [
        "# Step 3 - Preprocessing\n",
        "\n",
        ">```python\n",
        "x_train = x_train.reshape(60000, 28, 28, 1)\n",
        "x_test = x_test.reshape(10000, 28, 28, 1)\n",
        "```\n",
        "\n",
        "\n",
        "In these lines of code we reshape the data to feed in the Model. You can see the data reshaped to `(6000, 28, 28, 1)`. Let's see what are these numbers. `6000` is the number of images, `28, 28` is the shape of image and `1` is the number of channels in the image. **Grayscale images have 1 channel. When using colored images this can be replace by 3 i.e. (6000, 28, 28, 3) when using colored images**\n",
        "\n",
        "The next step is Normalizing i.e. scaling the pixels to 0-1 from 0-255."
      ]
    },
    {
      "cell_type": "code",
      "execution_count": 6,
      "metadata": {
        "ExecuteTime": {
          "end_time": "2020-06-10T16:54:32.275587Z",
          "start_time": "2020-06-10T16:54:32.05088Z"
        },
        "id": "xZi_vaWg6DHJ",
        "trusted": true
      },
      "outputs": [],
      "source": [
        "# Reshape the data for convolutional neural network\n",
        "x_train = x_train.reshape(60000, 28, 28, 1)  # Reshape training data\n",
        "x_test = x_test.reshape(10000, 28, 28, 1)  # Reshape testing data\n",
        "\n",
        "# Normalize the pixel values\n",
        "x_train = x_train/255  # Normalize training data\n",
        "x_test = x_test/255  # Normalize testing data\n"
      ]
    },
    {
      "cell_type": "markdown",
      "metadata": {
        "id": "mbkPcbIC6DHJ"
      },
      "source": [
        "# Step 4 - Modelling\n",
        "\n",
        "There are two types of models in Tensorflow:\n",
        " - **Sequential**\n",
        " - **Graphical**"
      ]
    },
    {
      "cell_type": "markdown",
      "metadata": {
        "id": "7fqC8fzn7RwT"
      },
      "source": [
        "## Models\n",
        "1. `tf.keras.model.Sequential()`: This creates a linear stack of layers, providing a Sequential neural network.\n",
        "2. `tf.model()`: This allows you to create an arbitrary graph of layers, as long as there are no cycles.\n",
        "\n",
        "## Convolution Layer\n",
        "`tf.keras.layers.Conv2D()` represents a convolutional layer with the following arguments:\n",
        "1. **filter**: Number of different types of convolutions used. Initially, they are set to predefined convolutions and slowly trained to find better features in the image.\n",
        "2. **kernel_size**: An integer or tuple/list of 2 integers, specifying the height and width of the 2D convolution window. A single integer can be used to specify the same value for all spatial dimensions.\n",
        "3. **activation**: Activation function applied to the layer.\n",
        "4. **input_shape**: Size of each input to the convolution.\n",
        "\n",
        "## Max Pooling\n",
        "`tf.keras.layers.MaxPooling2D()`: This layer is used for max pooling to reduce the size of the input. It takes the following argument:\n",
        "1. **pool_size**: Dimensions of the pooling kernel.\n",
        "\n",
        "## Flatten Layer\n",
        "`tf.keras.layers.Flatten()`: This layer flattens the input. If the input has shape `(batch_size, height, width)`, the output shape becomes `(batch_size, height*width)`.\n",
        "\n",
        "## Dense Layer\n",
        "`tf.keras.layers.Dense()`: This represents a normal dense layer in a neural network, where each node is connected to each node in the next layer.\n",
        "- **units**: Number of nodes in the layer.\n",
        "- **activation**: Element-wise activation function. Options include:\n",
        "  - **relu**: Converts negative values to 0 and leaves positive values unchanged.\n",
        "  - **softmax**: Converts the element with the maximum value to 1 and the rest to 0. This is often used in the output layer for classification tasks.\n",
        "\n",
        "In the example below, there are 3 dense layers with 128, 64, and 10 nodes respectively. The layer with 10 nodes is the output layer. Since only a single value is needed (preferably the maximum value), the *softmax* activation function is applied to the final/output layer.\n",
        "\n",
        "## Compiling the Model\n",
        "`model.compile()`: This method sets up the optimizer, loss, and metrics configuration for the model.\n",
        "- **optimizer**: Updates the parameters of the neural network.\n",
        "- **loss**: Measures the error in the model.\n",
        "- **metrics**: Used to judge the model. Metrics are not used to evaluate the model while training, whereas loss evaluates the model error during training and helps the optimizer reduce the error.\n"
      ]
    },
    {
      "cell_type": "code",
      "execution_count": 7,
      "metadata": {
        "ExecuteTime": {
          "end_time": "2020-06-10T17:07:37.288653Z",
          "start_time": "2020-06-10T17:07:37.229297Z"
        },
        "id": "wLtY7OTi6DHJ",
        "trusted": true
      },
      "outputs": [],
      "source": [
        "# Create a sequential model for Convolutional Neural Network (CNN)\n",
        "model = tf.keras.models.Sequential([\n",
        "    tf.keras.layers.Conv2D(64, (3, 3), activation='relu', input_shape=(28, 28, 1)),  # Convolutional layer\n",
        "    tf.keras.layers.MaxPooling2D(2, 2),  # Max pooling layer\n",
        "    tf.keras.layers.Conv2D(64, (3, 3), activation='relu'),  # Another convolutional layer\n",
        "    tf.keras.layers.MaxPooling2D(2, 2),  # Another max pooling layer\n",
        "    tf.keras.layers.Flatten(),  # Flatten layer to connect to Dense layers\n",
        "    tf.keras.layers.Dense(128, activation='relu'),  # Dense layer with 128 nodes\n",
        "    tf.keras.layers.Dense(10, activation='softmax')  # Output layer with 10 nodes for classification\n",
        "])\n",
        "\n",
        "# Compile the model\n",
        "model.compile(\n",
        "    optimizer='adam',  # Adam optimizer\n",
        "    loss='sparse_categorical_crossentropy',  # Loss function\n",
        "    metrics=['accuracy']  # Metrics to track during training\n",
        ")\n"
      ]
    },
    {
      "cell_type": "markdown",
      "metadata": {
        "id": "0HLz5YFn6DHJ"
      },
      "source": [
        "### Model Details\n",
        "\n",
        "Let's examine the details of the model:\n",
        "\n",
        "1. The 3x3 pixel kernel reduces the image size by 1 pixel on each side, resulting in an output size of **(26, 26, 64)**. This reduction is due to the inability to process pixels at the edges. There are 64 types of filters, leading to 64 layers of matrices.\n",
        "\n",
        "2. Max Pooling with a pool size of 2x2 reduces the image dimensions by half, resulting in an output size of **(13, 13, 64)**.\n",
        "\n",
        "3. The subsequent layers consist of another convolution followed by max pooling, resulting in a net output shape of **(5, 5, 64)**.\n",
        "\n",
        "4. The Flatten layer unrolls the input into a single-dimensional array, resulting in a shape of 5 x 5 x 64 = 1600.\n",
        "\n",
        "5. The next layer contains 128 nodes, which we've chosen as the number of nodes.\n",
        "\n",
        "6. The final output layer consists of 10 nodes, corresponding to the 10 classes in the dataset.\n"
      ]
    },
    {
      "cell_type": "code",
      "execution_count": 8,
      "metadata": {
        "ExecuteTime": {
          "end_time": "2020-06-10T17:24:41.162476Z",
          "start_time": "2020-06-10T17:24:41.157906Z"
        },
        "colab": {
          "base_uri": "https://localhost:8080/"
        },
        "id": "F1vu9ySk6DHK",
        "outputId": "3c3cc999-3f82-430a-e3c4-1ee573a1089b",
        "trusted": true
      },
      "outputs": [
        {
          "name": "stdout",
          "output_type": "stream",
          "text": [
            "Model: \"sequential\"\n",
            "_________________________________________________________________\n",
            " Layer (type)                Output Shape              Param #   \n",
            "=================================================================\n",
            " conv2d (Conv2D)             (None, 26, 26, 64)        640       \n",
            "                                                                 \n",
            " max_pooling2d (MaxPooling2  (None, 13, 13, 64)        0         \n",
            " D)                                                              \n",
            "                                                                 \n",
            " conv2d_1 (Conv2D)           (None, 11, 11, 64)        36928     \n",
            "                                                                 \n",
            " max_pooling2d_1 (MaxPoolin  (None, 5, 5, 64)          0         \n",
            " g2D)                                                            \n",
            "                                                                 \n",
            " flatten (Flatten)           (None, 1600)              0         \n",
            "                                                                 \n",
            " dense (Dense)               (None, 128)               204928    \n",
            "                                                                 \n",
            " dense_1 (Dense)             (None, 10)                1290      \n",
            "                                                                 \n",
            "=================================================================\n",
            "Total params: 243786 (952.29 KB)\n",
            "Trainable params: 243786 (952.29 KB)\n",
            "Non-trainable params: 0 (0.00 Byte)\n",
            "_________________________________________________________________\n"
          ]
        }
      ],
      "source": [
        "# Display a summary of the model's architecture and parameters\n",
        "model.summary()\n"
      ]
    },
    {
      "cell_type": "markdown",
      "metadata": {
        "id": "vp5KPdgZ6DHK"
      },
      "source": [
        "# Step 5 - Training & Validation\n",
        "\n",
        "1. The `model.fit` function is used to train the model.\n",
        "    > - **x_train**: Training data/features\n",
        "    > - **y_train**: Target\n",
        "    > - **epochs**: Number of times the entire dataset is fed into the model for training\n",
        "\n",
        "2. While training, you can observe the loss and accuracy calculated on the training data itself. The number of epochs is a trial-and-error metric. It depends on various factors, such as the data size and the complexity of the classification task. With experience, you will develop an intuition for estimating the number of epochs required for a specific model and dataset.\n",
        "\n",
        "3. We've verified our model's accuracy for the training data, which is approximately 97%. This accuracy is calculated on the same data on which the model is trained. Now, let's evaluate the accuracy when our model encounters new data that it hasn't been trained on. Generally, the validation accuracy should be slightly lower than the training accuracy.\n",
        "\n",
        "    > - This is done to avoid overfitting. **Overfitting** occurs when the model performs well on training data but poorly on test data. When a significant gap exists between training and validation accuracy, overfitting is a likely issue.\n",
        "\n",
        "4. Overfitting can arise due to various reasons and can be addressed through multiple techniques. These will be discussed in detail later in the course.\n",
        "\n",
        "5. It's important to note that we anticipate the validation accuracy to be slightly lower than the training accuracy, but not drastically lower. This indicates that the model generalizes well to new, unseen data.\n"
      ]
    },
    {
      "cell_type": "code",
      "execution_count": 9,
      "metadata": {
        "ExecuteTime": {
          "end_time": "2020-06-10T16:59:03.569655Z",
          "start_time": "2020-06-10T16:54:32.3542Z"
        },
        "colab": {
          "base_uri": "https://localhost:8080/"
        },
        "id": "Oh9C0bwn6DHK",
        "outputId": "f8392f52-d860-41bf-8b9d-9a1fb4e3c6ab",
        "trusted": true
      },
      "outputs": [
        {
          "name": "stdout",
          "output_type": "stream",
          "text": [
            "Epoch 1/5\n",
            "1875/1875 [==============================] - 40s 20ms/step - loss: 0.1205 - accuracy: 0.9625\n",
            "Epoch 2/5\n",
            "1875/1875 [==============================] - 64s 34ms/step - loss: 0.0410 - accuracy: 0.9868\n",
            "Epoch 3/5\n",
            "1875/1875 [==============================] - 35s 19ms/step - loss: 0.0259 - accuracy: 0.9916\n",
            "Epoch 4/5\n",
            "1875/1875 [==============================] - 42s 23ms/step - loss: 0.0201 - accuracy: 0.9937\n",
            "Epoch 5/5\n",
            "1875/1875 [==============================] - 41s 22ms/step - loss: 0.0144 - accuracy: 0.9956\n",
            "313/313 [==============================] - 3s 8ms/step - loss: 0.0276 - accuracy: 0.9913\n"
          ]
        }
      ],
      "source": [
        "# Training the model\n",
        "model.fit(x_train, y_train, epochs=5)\n",
        "# Trains the model using the training data (x_train, y_train) for 5 epochs\n",
        "\n",
        "# Validation\n",
        "test_loss = model.evaluate(x_test, y_test)\n",
        "# Evaluates the trained model on the test data (x_test, y_test)\n"
      ]
    },
    {
      "cell_type": "markdown",
      "metadata": {},
      "source": [
        "---"
      ]
    },
    {
      "cell_type": "markdown",
      "metadata": {
        "id": "zrvYMbYO6DHK"
      },
      "source": [
        "# Extra:  Visualising image stages in layers"
      ]
    },
    {
      "cell_type": "code",
      "execution_count": 22,
      "metadata": {
        "ExecuteTime": {
          "end_time": "2020-06-10T16:59:05.523866Z",
          "start_time": "2020-06-10T16:59:03.572384Z"
        },
        "colab": {
          "base_uri": "https://localhost:8080/",
          "height": 636
        },
        "id": "dCspXAeg6DHK",
        "outputId": "3f6ca66b-7f7a-4af0-ad89-3e7143ad52ed",
        "trusted": true
      },
      "outputs": [
        {
          "name": "stdout",
          "output_type": "stream",
          "text": [
            "1/1 [==============================] - 0s 127ms/step\n",
            "1/1 [==============================] - 0s 22ms/step\n",
            "1/1 [==============================] - 0s 34ms/step\n",
            "1/1 [==============================] - 0s 21ms/step\n",
            "1/1 [==============================] - 0s 20ms/step\n",
            "1/1 [==============================] - 0s 21ms/step\n",
            "1/1 [==============================] - 0s 16ms/step\n",
            "1/1 [==============================] - 0s 32ms/step\n",
            "1/1 [==============================] - 0s 22ms/step\n",
            "1/1 [==============================] - 0s 19ms/step\n",
            "1/1 [==============================] - 0s 36ms/step\n",
            "1/1 [==============================] - 0s 32ms/step\n"
          ]
        },
        {
          "data": {
            "image/png": "[encoded data removed]",
            "text/plain": [
              "<Figure size 640x480 with 12 Axes>"
            ]
          },
          "metadata": {},
          "output_type": "display_data"
        }
      ],
      "source": [
        "# Create a 3x4 grid of subplots for visualization\n",
        "f, axarr = plt.subplots(3, 4)\n",
        "\n",
        "# Image indices and convolution layer number\n",
        "FIRST_IMAGE = 1\n",
        "SECOND_IMAGE = 19\n",
        "THIRD_IMAGE = 78\n",
        "CONVOLUTION_NUMBER = 1\n",
        "\n",
        "# Construct a custom model to visualize intermediate layer outputs\n",
        "layer_outputs = [layer.output for layer in model.layers]\n",
        "activation_model = tf.keras.models.Model(inputs=model.input, outputs=layer_outputs)\n",
        "\n",
        "# Visualize convolutions for three random images\n",
        "for x in range(0, 4):\n",
        "    # Extract and visualize convolution activations for the first image\n",
        "    f1 = activation_model.predict(x_test[FIRST_IMAGE].reshape(1, 28, 28, 1))[x]\n",
        "    axarr[0, x].imshow(f1[0, :, :, CONVOLUTION_NUMBER], cmap='inferno')\n",
        "    axarr[0, x].grid(False)\n",
        "\n",
        "    # Extract and visualize convolution activations for the second image\n",
        "    f2 = activation_model.predict(x_test[SECOND_IMAGE].reshape(1, 28, 28, 1))[x]\n",
        "    axarr[1, x].imshow(f2[0, :, :, CONVOLUTION_NUMBER], cmap='inferno')\n",
        "    axarr[1, x].grid(False)\n",
        "\n",
        "    # Extract and visualize convolution activations for the third image\n",
        "    f3 = activation_model.predict(x_test[THIRD_IMAGE].reshape(1, 28, 28, 1))[x]\n",
        "    axarr[2, x].imshow(f3[0, :, :, CONVOLUTION_NUMBER], cmap='inferno')\n",
        "    axarr[2, x].grid(False)\n"
      ]
    },
    {
      "cell_type": "code",
      "execution_count": null,
      "metadata": {},
      "outputs": [],
      "source": []
    }
  ],
  "metadata": {
    "colab": {
      "provenance": []
    },
    "kernelspec": {
      "display_name": "Python 3",
      "language": "python",
      "name": "python3"
    },
    "language_info": {
      "codemirror_mode": {
        "name": "ipython",
        "version": 3
      },
      "file_extension": ".py",
      "mimetype": "text/x-python",
      "name": "python",
      "nbconvert_exporter": "python",
      "pygments_lexer": "ipython3",
      "version": "3.11.4"
    }
  },
  "nbformat": 4,
  "nbformat_minor": 0
}
